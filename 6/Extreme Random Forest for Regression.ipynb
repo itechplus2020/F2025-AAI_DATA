{
  "cells": [
    {
      "cell_type": "markdown",
      "metadata": {
        "id": "70pYkR9LiOV0"
      },
      "source": []
    },
    {
      "cell_type": "code",
      "source": [
        "import numpy as np\n",
        "import matplotlib.pyplot as plt\n",
        "from sklearn.metrics import classification_report, mean_absolute_error\n",
        "from sklearn.model_selection import train_test_split\n",
        "from sklearn import preprocessing\n",
        "from sklearn.ensemble import ExtraTreesRegressor\n",
        "from sklearn.metrics import classification_report\n",
        "\n",
        "# Load input data\n",
        "import numpy as np\n",
        "data = np.loadtxt('traffic_data.txt', delimiter=',', dtype=str)  # Loads everything as a string\n",
        "\n",
        "data = np.array(data)\n",
        "\n",
        "# Convert string data to numerical data\n",
        "label_encoder = []\n",
        "X_encoded = np.empty(data.shape)\n",
        "for i, item in enumerate(data[0]):\n",
        "    if item.isdigit():\n",
        "        X_encoded[:, i] = data[:, i]\n",
        "    else:\n",
        "        label_encoder.append(preprocessing.LabelEncoder())\n",
        "        X_encoded[:, i] = label_encoder[-1].fit_transform(data[:, i])\n",
        "\n",
        "X = X_encoded[:, :-1].astype(int)\n",
        "y = X_encoded[:, -1].astype(int)\n",
        "\n",
        "# Split data into training and testing datasets\n",
        "X_train, X_test, y_train, y_test = train_test_split(\n",
        "        X, y, test_size=0.25, random_state=5)\n",
        "\n",
        "# Extremely Random Forests regressor\n",
        "params = {'n_estimators': 100, 'max_depth': 4, 'random_state': 0}\n",
        "regressor = ExtraTreesRegressor(**params)\n",
        "regressor.fit(X_train, y_train)\n",
        "\n",
        "# Compute the regressor performance on test data\n",
        "y_pred = regressor.predict(X_test)\n",
        "print(\"Mean absolute error:\", round(mean_absolute_error(y_test, y_pred), 2))\n",
        "\n",
        "# Testing encoding on single data instance\n",
        "test_datapoint = ['Saturday', '10:20', 'Atlanta', 'no']\n",
        "test_datapoint_encoded = [-1] * len(test_datapoint)\n",
        "\n",
        "# Predict the output for the test datapoint\n",
        "print(\"Predicted traffic:\", int(regressor.predict([test_datapoint_encoded])[0]))"
      ],
      "metadata": {
        "id": "hOAxfBFinNBZ",
        "outputId": "b9592f95-300f-405f-fcaf-70c19bd97aaa",
        "colab": {
          "base_uri": "https://localhost:8080/"
        }
      },
      "execution_count": 4,
      "outputs": [
        {
          "output_type": "stream",
          "name": "stdout",
          "text": [
            "Mean absolute error: 7.42\n",
            "Predicted traffic: 6\n"
          ]
        }
      ]
    }
  ],
  "metadata": {
    "colab": {
      "name": "Markdown Guide",
      "provenance": []
    },
    "kernelspec": {
      "display_name": "Python 3",
      "name": "python3"
    }
  },
  "nbformat": 4,
  "nbformat_minor": 0
}