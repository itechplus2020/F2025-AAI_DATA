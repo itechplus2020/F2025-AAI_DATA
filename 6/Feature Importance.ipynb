{
  "cells": [
    {
      "cell_type": "markdown",
      "metadata": {
        "id": "YyIyJ8Vc1L7D"
      },
      "source": []
    },
    {
      "cell_type": "code",
      "execution_count": null,
      "metadata": {
        "id": "sOc2MviX1Oms",
        "vscode": {
          "languageId": "r"
        }
      },
      "outputs": [],
      "source": [
        "import numpy as np\n",
        "import matplotlib.pyplot as plt\n",
        "from sklearn.tree import DecisionTreeRegressor\n",
        "from sklearn.ensemble import AdaBoostRegressor\n",
        "from sklearn import datasets\n",
        "from sklearn.metrics import mean_squared_error, explained_variance_score\n",
        "from sklearn.model_selection import train_test_split\n",
        "from sklearn.utils import shuffle\n",
        "\n",
        "from utilities import visualize_classifier\n",
        "\n",
        "# Load California housing data\n",
        "housing_data = datasets.fetch_california_housing()\n",
        "\n",
        "# Shuffle the data\n",
        "X, y = shuffle(housing_data.data, housing_data.target, random_state=7)\n",
        "\n",
        "# Split data into training and testing datasets \n",
        "X_train, X_test, y_train, y_test = train_test_split(\n",
        "    X, y, test_size=0.2, random_state=7\n",
        ")\n",
        "\n",
        "# AdaBoost Regressor model\n",
        "regressor = AdaBoostRegressor(DecisionTreeRegressor(max_depth=4), \n",
        "                              n_estimators=400, random_state=7)\n",
        "regressor.fit(X_train, y_train)\n",
        "\n",
        "# Evaluate performance of AdaBoost regressor\n",
        "y_pred = regressor.predict(X_test)\n",
        "mse = mean_squared_error(y_test, y_pred)\n",
        "evs = explained_variance_score(y_test, y_pred)\n",
        "\n",
        "print(\"\\nADABOOST REGRESSOR\")\n",
        "print(\"Mean squared error =\", round(mse, 2))\n",
        "print(\"Explained variance score =\", round(evs, 2))\n",
        "\n",
        "# Extract feature importances\n",
        "feature_importances = regressor.feature_importances_\n",
        "feature_names = housing_data.feature_names\n",
        "\n",
        "# Normalize the importance values \n",
        "feature_importances = 100.0 * (feature_importances / max(feature_importances))\n",
        "\n",
        "# Sort the values and flip them\n",
        "index_sorted = np.flipud(np.argsort(feature_importances))\n",
        "\n",
        "# Arrange the X ticks\n",
        "pos = np.arange(index_sorted.shape[0]) + 0.5\n",
        "\n",
        "# Plot the bar graph\n",
        "plt.figure()\n",
        "plt.bar(pos, feature_importances[index_sorted], align='center')\n",
        "plt.xticks(pos, np.array(feature_names)[index_sorted], rotation=45)\n",
        "plt.ylabel('Relative Importance')\n",
        "plt.title('Feature Importance using AdaBoost Regressor')\n",
        "plt.show()\n"
      ]
    }
  ],
  "metadata": {
    "colab": {
      "provenance": []
    },
    "kernelspec": {
      "display_name": "R",
      "name": "ir"
    },
    "language_info": {
      "name": "R"
    }
  },
  "nbformat": 4,
  "nbformat_minor": 0
}
