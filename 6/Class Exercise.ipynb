{
  "nbformat": 4,
  "nbformat_minor": 0,
  "metadata": {
    "colab": {
      "provenance": []
    },
    "kernelspec": {
      "name": "python3",
      "display_name": "Python 3"
    },
    "language_info": {
      "name": "python"
    }
  },
  "cells": [
    {
      "cell_type": "markdown",
      "source": [
        "# 🌸 Understanding the Iris Dataset  \n",
        "\n",
        "## 📌 What is the Iris Dataset?  \n",
        "The **Iris dataset** is a well-known dataset used in machine learning and statistics. It contains measurements of three different species of Iris flowers:  \n",
        "1. **Iris Setosa**  \n",
        "2. **Iris Versicolor**  \n",
        "3. **Iris Virginica**  \n",
        "\n",
        "Each row in the dataset represents an individual flower and includes four key features:  \n",
        "- **Sepal Length (cm)**  \n",
        "- **Sepal Width (cm)**  \n",
        "- **Petal Length (cm)**  \n",
        "- **Petal Width (cm)**  \n",
        "\n",
        "---\n",
        "\n",
        "## 🔍 Given Sample Data  \n",
        "\n",
        "```\n",
        "[4.9, 3.0, 1.4, 0.2]\n",
        "[4.7, 3.2, 1.3, 0.2]\n",
        "[4.6, 3.1, 1.5, 0.2]\n",
        "[5.0, 3.6, 1.4, 0.2]\n",
        "```\n",
        "\n",
        "### **How to Identify the Species?**  \n",
        "We can determine the species by comparing the measurements with known value ranges:\n",
        "\n",
        "| Species           | Sepal Length (cm) | Sepal Width (cm) | Petal Length (cm) | Petal Width (cm) |\n",
        "|------------------|------------------|----------------|----------------|----------------|\n",
        "| **Iris Setosa**  | 4.3 - 5.8        | 2.3 - 4.4     | **1.0 - 1.9**  | **0.1 - 0.6**  |\n",
        "| **Iris Versicolor** | 4.9 - 7.0     | 2.0 - 3.4     | **3.0 - 5.1**  | **1.0 - 1.8**  |\n",
        "| **Iris Virginica** | 4.9 - 7.9     | 2.2 - 3.8     | **4.5 - 6.9**  | **1.4 - 2.5**  |\n",
        "\n",
        "---\n",
        "\n",
        "## 🧐 **Analysis of the Given Data**  \n",
        "\n",
        "- **Petal length** of the samples is between **1.3 - 1.5 cm**  \n",
        "- **Petal width** is **0.2 cm**  \n",
        "- These values match the **Iris Setosa** range  \n",
        "\n",
        "✅ **Conclusion**: The given flowers belong to the **Iris Setosa** species.  \n",
        "\n",
        "---\n",
        "\n",
        "## 🤖 **How Can We Automate This?**  \n",
        "Instead of manually comparing values, a **machine learning model** can be trained to classify the species. The model takes the flower measurements as input and predicts the species with high accuracy.  \n",
        "\n",
        "🚀 Using **classification techniques** such as **Random Forests, Decision Trees** we can automate the process and classify new flower samples instantly.  \n",
        "\n",
        "---\n",
        "📌 **Summary:**  \n",
        "- The **Iris dataset** contains measurements of three species.  \n",
        "- The given samples belong to **Iris Setosa** based on feature ranges.  \n",
        "- A **machine learning model** can automate species classification efficiently.  \n"
      ],
      "metadata": {
        "id": "QPoBlfQuyjJY"
      }
    },
    {
      "cell_type": "markdown",
      "source": [
        "# 📊 **Iris Classifier Assignment**\n",
        "## 1. **Load the Data** 🗃️\n",
        "**Question**: Load the dataset and split it into features and labels.\n",
        "![Iris Dataset](https://upload.wikimedia.org/wikipedia/commons/5/56/Iris_dataset_scatterplot.svg)\n",
        "---\n",
        "## 2. **Visualize the Dataset** 📈\n",
        "**Question**: Visualize the dataset using a scatter plot, showing different classes with distinct markers.\n",
        "\n",
        "---\n",
        "## 3. **Split the Data into Training and Test Sets** 🔄\n",
        "**Question**: Split the dataset into a training set (75%) and a testing set (25%).\n",
        "---\n",
        "## 4. **Choose a Classifier and Train the Model** 🤖\n",
        "**Question**: Select a classifier (Random Forest or Extra Trees) and train it using the training data.\n",
        "---\n",
        "## 5. **Visualize the Decision Boundaries (Training Data)** 🌐\n",
        "**Question**: Visualize the decision boundaries for the training dataset after training the model.\n",
        "---\n",
        "## 6. **Predict on the Test Data and Visualize Decision Boundaries** 🔮\n",
        "**Question**: Predict the labels for the test dataset and visualize the decision boundaries.\n",
        "---\n",
        "## 7. **Evaluate Classifier Performance (Training Data)** 📊\n",
        "**Question**: Evaluate the classifier's performance on the training dataset (accuracy, precision, recall, F1-score).\n",
        "---\n",
        "## 8. **Evaluate Classifier Performance (Test Data)** 🔍\n",
        "**Question**: Evaluate the classifier's performance on the test dataset (accuracy, precision, recall, F1-score).\n",
        "---\n",
        "*Good luck with the assignment! 🎓*"
      ],
      "metadata": {
        "id": "2qhl6EJHycMz"
      }
    },
    {
      "cell_type": "code",
      "source": [],
      "metadata": {
        "id": "_ugNpVR1_kAc"
      },
      "execution_count": null,
      "outputs": []
    }
  ]
}